{
 "cells": [
  {
   "cell_type": "code",
   "execution_count": 2,
   "metadata": {},
   "outputs": [
    {
     "data": {
      "image/png": "[encoded data removed]",
      "text/plain": [
       "<Figure size 432x288 with 1 Axes>"
      ]
     },
     "metadata": {
      "needs_background": "light"
     },
     "output_type": "display_data"
    }
   ],
   "source": [
    "%matplotlib inline\n",
    "import matplotlib.pyplot as plt\n",
    "import pandas as pd\n",
    "\n",
    "# 데이터 가져오기\n",
    "dataset = pd.read_csv('Salary_Data.csv')\n",
    "years_experience = dataset.iloc[:, :-1].values\n",
    "salrary = dataset.iloc[:, 1].values\n",
    "\n",
    "# 그래프 그리기\n",
    "plt.scatter(years_experience, salrary, color = 'red')\n",
    "plt.title('Salary vs Experience')\n",
    "plt.xlabel('Years of Experience')\n",
    "plt.ylabel('Salary')\n",
    "plt.show()"
   ]
  },
  {
   "cell_type": "code",
   "execution_count": 9,
   "metadata": {},
   "outputs": [
    {
     "name": "stdout",
     "output_type": "stream",
     "text": [
      "B Wins\n",
      "A Wins\n",
      "Draw\n"
     ]
    }
   ],
   "source": [
    "def compare_scores(scores_a, scores_b):\n",
    "    if max(scores_a) > max(scores_b):\n",
    "        print('A Wins')\n",
    "    elif max(scores_a) < max(scores_b):\n",
    "        print('B Wins')\n",
    "    else:\n",
    "        if sum(scores_a) > sum(scores_b):\n",
    "            print('A Wins')\n",
    "        elif sum(scores_a) < sum(scores_b):\n",
    "            print('B Wins')\n",
    "        else:\n",
    "            print('Draw')\n",
    "\n",
    "            # 함수를 작성하세요\n",
    "   \n",
    "\n",
    "# 정답 출력\n",
    "compare_scores([93, 94, 57], [99, 76, 64])\n",
    "compare_scores([94, 85, 81], [79, 72, 94])\n",
    "compare_scores([99, 93, 80], [91, 99, 82])\n"
   ]
  },
  {
   "cell_type": "code",
   "execution_count": null,
   "metadata": {},
   "outputs": [],
   "source": []
  }
 ],
 "metadata": {
  "kernelspec": {
   "display_name": "Python 3",
   "language": "python",
   "name": "python3"
  },
  "language_info": {
   "codemirror_mode": {
    "name": "ipython",
    "version": 3
   },
   "file_extension": ".py",
   "mimetype": "text/x-python",
   "name": "python",
   "nbconvert_exporter": "python",
   "pygments_lexer": "ipython3",
   "version": "3.7.4"
  }
 },
 "nbformat": 4,
 "nbformat_minor": 2
}
